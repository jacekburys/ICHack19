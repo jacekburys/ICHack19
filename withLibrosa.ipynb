{
 "cells": [
  {
   "cell_type": "code",
   "execution_count": 13,
   "metadata": {},
   "outputs": [],
   "source": [
    "import librosa\n",
    "import IPython.display\n",
    "y, sr = librosa.load('in.mp3', sr=44100) # y is a numpy array of the wav file, sr = sample rate\n",
    "y_shifted = librosa.effects.pitch_shift(y, sr, n_steps=4) # shifted by 4 half steps\n",
    "librosa.output.write_wav('out.wav', y_shifted, sr)"
   ]
  },
  {
   "cell_type": "code",
   "execution_count": null,
   "metadata": {},
   "outputs": [],
   "source": []
  }
 ],
 "metadata": {
  "kernelspec": {
   "display_name": "Python 3",
   "language": "python",
   "name": "python3"
  },
  "language_info": {
   "codemirror_mode": {
    "name": "ipython",
    "version": 3
   },
   "file_extension": ".py",
   "mimetype": "text/x-python",
   "name": "python",
   "nbconvert_exporter": "python",
   "pygments_lexer": "ipython3",
   "version": "3.7.2"
  }
 },
 "nbformat": 4,
 "nbformat_minor": 2
}
